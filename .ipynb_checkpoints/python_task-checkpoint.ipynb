{
 "cells": [
  {
   "cell_type": "code",
   "execution_count": 1,
   "id": "848cc986-a666-417c-ad48-8b7a8a95e432",
   "metadata": {},
   "outputs": [],
   "source": [
    "# Python_task_minfy"
   ]
  },
  {
   "cell_type": "code",
   "execution_count": 2,
   "id": "aa770cdb-50de-4e45-af38-c52fb4385631",
   "metadata": {},
   "outputs": [],
   "source": [
    "# Functions"
   ]
  },
  {
   "cell_type": "code",
   "execution_count": 3,
   "id": "d99c0443-6a38-4898-a7fd-c5c8399c278e",
   "metadata": {},
   "outputs": [],
   "source": [
    "# easy questions"
   ]
  },
  {
   "cell_type": "code",
   "execution_count": null,
   "id": "97e1596e-df68-46fb-938f-e7537e2f4b66",
   "metadata": {},
   "outputs": [],
   "source": [
    "# 1. Functions basics"
   ]
  },
  {
   "cell_type": "code",
   "execution_count": 4,
   "id": "0d4b7c31-f451-4cf8-8a3b-3786ed35c0fe",
   "metadata": {},
   "outputs": [
    {
     "name": "stdout",
     "output_type": "stream",
     "text": [
      "12.5\n",
      "0\n"
     ]
    }
   ],
   "source": [
    "# Example usage:\n",
    "\n",
    "def calculate_average(my_list):\n",
    "    sum = 0\n",
    "    n = len(my_list)\n",
    "    if n == 0:\n",
    "        return 0\n",
    "    for i in range(n):\n",
    "        sum += my_list[i]\n",
    "    return sum/n\n",
    "        \n",
    "print(calculate_average([5, 10, 15, 20]))  # Should return 12.5\n",
    "print(calculate_average([]))  # Should return 0\n"
   ]
  },
  {
   "cell_type": "code",
   "execution_count": 5,
   "id": "9911bc9b-2945-4c30-96fd-460f2944c195",
   "metadata": {},
   "outputs": [],
   "source": [
    "# 2.Default parameters"
   ]
  },
  {
   "cell_type": "code",
   "execution_count": 6,
   "id": "a0e5554f-21d7-4bbb-92a6-dac7c56644dc",
   "metadata": {},
   "outputs": [
    {
     "name": "stdout",
     "output_type": "stream",
     "text": [
      "Hello, Alice!\n",
      "Hi, Bob!\n"
     ]
    }
   ],
   "source": [
    "# Example usage:\n",
    "def greet_user(name, greeting=\"Hello\"):\n",
    "    return f\"{greeting}, {name}!\"\n",
    "\n",
    "print(greet_user(\"Alice\"))  # Should return \"Hello, Alice!\"\n",
    "print(greet_user(\"Bob\", \"Hi\"))  # Should return \"Hi, Bob!\""
   ]
  },
  {
   "cell_type": "code",
   "execution_count": 7,
   "id": "b0d4c644-6a9b-4e0c-9f15-f89d29dcf447",
   "metadata": {},
   "outputs": [],
   "source": [
    "# medium questions"
   ]
  },
  {
   "cell_type": "code",
   "execution_count": 8,
   "id": "0f67869c-5f4c-4279-bbdb-86d562a67107",
   "metadata": {},
   "outputs": [],
   "source": [
    "# 1.Variable argument"
   ]
  },
  {
   "cell_type": "code",
   "execution_count": 9,
   "id": "845b18a2-6e6b-469a-bde3-ef78f0ed6950",
   "metadata": {},
   "outputs": [
    {
     "name": "stdout",
     "output_type": "stream",
     "text": [
      "60.0\n",
      "54.0\n"
     ]
    }
   ],
   "source": [
    "# Example usage:\n",
    "def calculate_total(x, y, z, discount=0):\n",
    "    tot = x+y+z\n",
    "    return (1-(discount/100))*tot\n",
    "    \n",
    "print(calculate_total(10, 20, 30))  # Should return 60\n",
    "print(calculate_total(10, 20, 30, discount=10))  # Should return 54 (10% off)"
   ]
  },
  {
   "cell_type": "code",
   "execution_count": 10,
   "id": "93255857-7699-4134-8c15-bcbe282b4830",
   "metadata": {},
   "outputs": [],
   "source": [
    "# Closures"
   ]
  },
  {
   "cell_type": "code",
   "execution_count": 11,
   "id": "b775bcae-d878-467b-af29-911977719f0c",
   "metadata": {},
   "outputs": [
    {
     "name": "stdout",
     "output_type": "stream",
     "text": [
      "10\n",
      "15\n"
     ]
    }
   ],
   "source": [
    "# Example usage:\n",
    "def create_multiplier(a):\n",
    "    def multiplier(x):\n",
    "        return x * a\n",
    "    return multiplier\n",
    "        \n",
    "\n",
    "double = create_multiplier(2)\n",
    "triple = create_multiplier(3)\n",
    "print(double(5))  # Should return 10\n",
    "print(triple(5))  # Should return 15"
   ]
  },
  {
   "cell_type": "code",
   "execution_count": 1,
   "id": "110157f7-4253-451f-9d86-5c6b24c07327",
   "metadata": {},
   "outputs": [],
   "source": [
    "# Hard Questions"
   ]
  },
  {
   "cell_type": "code",
   "execution_count": null,
   "id": "07e3eda6-9133-42f5-8e99-40837889e1e3",
   "metadata": {},
   "outputs": [],
   "source": [
    "# 1. Recursion"
   ]
  },
  {
   "cell_type": "code",
   "execution_count": 4,
   "id": "e0d6c4f1-e3b9-4239-ac04-c694bf2b46ee",
   "metadata": {},
   "outputs": [
    {
     "name": "stdout",
     "output_type": "stream",
     "text": [
      "1024\n",
      "81\n"
     ]
    }
   ],
   "source": [
    "# Example usage:\n",
    "def power(a,b):\n",
    "    if(b == 0):\n",
    "        return 1\n",
    "    if(b == 1):\n",
    "        return a\n",
    "    return power(a, b-1)*a\n",
    "    \n",
    "\n",
    "print(power(2, 10))  # Should return 1024\n",
    "print(power(3, 4))   # Should return 81"
   ]
  },
  {
   "cell_type": "code",
   "execution_count": null,
   "id": "baba5bb3-304b-4a89-8560-687668536446",
   "metadata": {},
   "outputs": [],
   "source": [
    "# 2. Higher-Order Functions"
   ]
  },
  {
   "cell_type": "code",
   "execution_count": 5,
   "id": "86af4d58-8261-4c0b-8804-c336e0ab8e75",
   "metadata": {},
   "outputs": [
    {
     "ename": "NameError",
     "evalue": "name 'compose' is not defined",
     "output_type": "error",
     "traceback": [
      "\u001b[31m---------------------------------------------------------------------------\u001b[39m",
      "\u001b[31mNameError\u001b[39m                                 Traceback (most recent call last)",
      "\u001b[36mCell\u001b[39m\u001b[36m \u001b[39m\u001b[32mIn[5]\u001b[39m\u001b[32m, line 9\u001b[39m\n\u001b[32m      6\u001b[39m \u001b[38;5;28;01mdef\u001b[39;00m\u001b[38;5;250m \u001b[39m\u001b[34mdouble\u001b[39m(x): \u001b[38;5;28;01mreturn\u001b[39;00m x * \u001b[32m2\u001b[39m\n\u001b[32m      7\u001b[39m \u001b[38;5;28;01mdef\u001b[39;00m\u001b[38;5;250m \u001b[39m\u001b[34msquare\u001b[39m(x): \u001b[38;5;28;01mreturn\u001b[39;00m x ** \u001b[32m2\u001b[39m\n\u001b[32m----> \u001b[39m\u001b[32m9\u001b[39m f = \u001b[43mcompose\u001b[49m(square, double, add_one)\n\u001b[32m     10\u001b[39m \u001b[38;5;28mprint\u001b[39m(f(\u001b[32m3\u001b[39m))  \u001b[38;5;66;03m# Should compute square(double(add_one(3))) = square(double(4)) = square(8) = 64\u001b[39;00m\n",
      "\u001b[31mNameError\u001b[39m: name 'compose' is not defined"
     ]
    }
   ],
   "source": [
    "# Example usage:\n",
    "\n",
    "\n",
    "\n",
    "def add_one(x): return x + 1\n",
    "def double(x): return x * 2\n",
    "def square(x): return x ** 2\n",
    "\n",
    "\n",
    "compose = add_one    \n",
    "f = compose(square, double, add_one)\n",
    "print(f(3))  # Should compute square(double(add_one(3))) = square(double(4)) = square(8) = 64\n"
   ]
  },
  {
   "cell_type": "code",
   "execution_count": 12,
   "id": "531ffd8a-9efe-46a8-9d7f-0d6ea3dd6a8e",
   "metadata": {},
   "outputs": [],
   "source": [
    "# List"
   ]
  },
  {
   "cell_type": "code",
   "execution_count": 13,
   "id": "d6648b9a-0e86-466c-b168-b1d69d71d585",
   "metadata": {},
   "outputs": [],
   "source": [
    "# easy questions"
   ]
  },
  {
   "cell_type": "code",
   "execution_count": 14,
   "id": "c504979e-8723-4677-809d-bc2cf4bf0154",
   "metadata": {},
   "outputs": [],
   "source": [
    "# 1. List operations"
   ]
  },
  {
   "cell_type": "code",
   "execution_count": 15,
   "id": "bb216989-4d14-4baf-9dca-5100c139b1a7",
   "metadata": {},
   "outputs": [
    {
     "name": "stdout",
     "output_type": "stream",
     "text": [
      "[2, 4, 6]\n",
      "[]\n"
     ]
    }
   ],
   "source": [
    "# Example usage:\n",
    "def filter_even_numbers(my_list):\n",
    "    n = len(my_list)\n",
    "    even_list = []\n",
    "    for i in range(n):\n",
    "        if(my_list[i]%2 == 0):\n",
    "            even_list.append(my_list[i])\n",
    "    return even_list\n",
    "\n",
    "print(filter_even_numbers([1, 2, 3, 4, 5, 6]))  # Should return [2, 4, 6]\n",
    "print(filter_even_numbers([1, 3, 5]))  # Should return []"
   ]
  },
  {
   "cell_type": "code",
   "execution_count": 16,
   "id": "eb667dea-8b13-4b0f-a291-35b7fb3affeb",
   "metadata": {},
   "outputs": [],
   "source": [
    "# 2. List manipulation"
   ]
  },
  {
   "cell_type": "code",
   "execution_count": 17,
   "id": "ba418b21-4a6d-473f-a8ad-f5e15ef2f4bd",
   "metadata": {},
   "outputs": [
    {
     "name": "stdout",
     "output_type": "stream",
     "text": [
      "[1, 2, 3, 4, 5, 6]\n",
      "[1, 2, 3, 4, 5, 6]\n"
     ]
    }
   ],
   "source": [
    "# Example usage:\n",
    "def merge_sorted_lists(l1, l2):\n",
    "    sorted_list = []\n",
    "    n = len(l1)\n",
    "    m = len(l2)\n",
    "    i = 0\n",
    "    j = 0\n",
    "    while(i<n and j<m):\n",
    "        if(l1[i]<l2[j]):\n",
    "            sorted_list.append(l1[i])\n",
    "            i += 1\n",
    "        else:\n",
    "            sorted_list.append(l2[j])\n",
    "            j += 1\n",
    "    while(i<n):\n",
    "        sorted_list.append(l1[i])\n",
    "        i += 1\n",
    "\n",
    "    while(j<m):\n",
    "        sorted_list.append(l2[j])\n",
    "        j += 1\n",
    "        \n",
    "    return sorted_list\n",
    "\n",
    "print(merge_sorted_lists([1, 3, 5], [2, 4, 6]))  # Should return [1, 2, 3, 4, 5, 6]\n",
    "print(merge_sorted_lists([1, 2, 3], [4, 5, 6]))  # Should return [1, 2, 3, 4, 5, 6]"
   ]
  },
  {
   "cell_type": "code",
   "execution_count": 18,
   "id": "8803cf0e-4c63-4842-b24b-6969decc28e9",
   "metadata": {},
   "outputs": [],
   "source": [
    "# Medium questions"
   ]
  },
  {
   "cell_type": "code",
   "execution_count": 19,
   "id": "c39cc32b-8657-4382-990e-fb0229e8e350",
   "metadata": {},
   "outputs": [],
   "source": [
    "# 1.List Comprehensions"
   ]
  },
  {
   "cell_type": "code",
   "execution_count": 20,
   "id": "cb9e777f-5800-47e6-9b9b-edc836854b3a",
   "metadata": {},
   "outputs": [
    {
     "name": "stdout",
     "output_type": "stream",
     "text": [
      "[[0, 0, 0], [0, 1, 2], [0, 2, 4]]\n"
     ]
    }
   ],
   "source": [
    "# Example usage:\n",
    "def generate_matrix(x, y):\n",
    "    matrix = []\n",
    "    for i in range(x):\n",
    "        row = []\n",
    "        for j in range(y):\n",
    "            row.append(i*j)\n",
    "        matrix.append(row)\n",
    "    return matrix\n",
    "\n",
    "\n",
    "print(generate_matrix(3, 3))\n",
    "# Should return:\n",
    "# [\n",
    "#   [0, 0, 0],\n",
    "#   [0, 1, 2],\n",
    "#   [0, 2, 4]\n",
    "# ]\n"
   ]
  },
  {
   "cell_type": "code",
   "execution_count": 21,
   "id": "3822a39a-495f-4700-a456-d25e8efee4e6",
   "metadata": {},
   "outputs": [],
   "source": [
    "# 2.nested list"
   ]
  },
  {
   "cell_type": "code",
   "execution_count": 22,
   "id": "82873928-b3ef-4f31-b1fb-e968020047a2",
   "metadata": {},
   "outputs": [
    {
     "name": "stdout",
     "output_type": "stream",
     "text": [
      "[[1, 4], [2, 5], [3, 6]]\n"
     ]
    }
   ],
   "source": [
    "# Example usage:\n",
    "def transpose_matrix(matrix):\n",
    "    row = len(matrix[0])\n",
    "    col = len(matrix)\n",
    "    trans_matrix = []\n",
    "    for i in range(row):\n",
    "        x = []\n",
    "        for j in range(col):\n",
    "            x.append(matrix[j][i])\n",
    "        trans_matrix.append(x)\n",
    "    return trans_matrix\n",
    "        \n",
    "\n",
    "matrix = [\n",
    "    [1, 2, 3],\n",
    "    [4, 5, 6]\n",
    "]\n",
    "print(transpose_matrix(matrix))\n",
    "# Should return:\n",
    "# [\n",
    "#   [1, 4],\n",
    "#   [2, 5],\n",
    "#   [3, 6]\n",
    "# ]\n"
   ]
  },
  {
   "cell_type": "code",
   "execution_count": null,
   "id": "245a8c99-ca89-42e6-bacd-2c1872669d9b",
   "metadata": {},
   "outputs": [],
   "source": [
    "# Hard questions"
   ]
  },
  {
   "cell_type": "code",
   "execution_count": null,
   "id": "d5dc1be8-dc0a-42c1-9c04-3d5061101fae",
   "metadata": {},
   "outputs": [],
   "source": [
    "# 1. Advanced list operation"
   ]
  },
  {
   "cell_type": "code",
   "execution_count": 6,
   "id": "6993611f-982d-4a78-a39b-08b2ca494c19",
   "metadata": {},
   "outputs": [
    {
     "name": "stdout",
     "output_type": "stream",
     "text": [
      "[1, 4, 8]\n"
     ]
    }
   ],
   "source": [
    "# Example usage:\n",
    "def find_peaks(my_list):\n",
    "    n = len(my_list)\n",
    "    ind = []\n",
    "    for i in range(1,n-1):\n",
    "        if(my_list[i-1]<my_list[i]>my_list[i+1]):\n",
    "            ind.append(i)\n",
    "    return ind\n",
    "\n",
    "print(find_peaks([1, 3, 2, 3, 5, 4, 3, 2, 3, 1]))  # Should return [1, 4, 8]"
   ]
  },
  {
   "cell_type": "code",
   "execution_count": 7,
   "id": "eecb1feb-556f-4b5a-ab03-8928d5ccf33e",
   "metadata": {},
   "outputs": [],
   "source": [
    "#2. List Algorithms"
   ]
  },
  {
   "cell_type": "code",
   "execution_count": 11,
   "id": "6e740c61-c1cb-40dc-8501-d9fd7a26ec70",
   "metadata": {},
   "outputs": [
    {
     "name": "stdout",
     "output_type": "stream",
     "text": [
      "[4, 5, 1, 2, 3]\n",
      "[3, 1, 2]\n"
     ]
    }
   ],
   "source": [
    "# Example usage:\n",
    "def rotate_list(my_list, k):\n",
    "    n = len(my_list)\n",
    "    for _ in range(k):\n",
    "        my_list.insert(0, my_list.pop()) \n",
    "    return my_list\n",
    "\n",
    "print(rotate_list([1, 2, 3, 4, 5], 2))  # Should return [4, 5, 1, 2, 3]\n",
    "print(rotate_list([1, 2, 3], 4))  # Should return [3, 1, 2]"
   ]
  },
  {
   "cell_type": "code",
   "execution_count": 23,
   "id": "96f4d4c1-eb48-4b31-84c5-e6e01ef0dd9b",
   "metadata": {},
   "outputs": [],
   "source": [
    "# Tuples"
   ]
  },
  {
   "cell_type": "code",
   "execution_count": 24,
   "id": "46aa975f-3935-48b0-9366-044ccddf017c",
   "metadata": {},
   "outputs": [],
   "source": [
    "# Easy Question"
   ]
  },
  {
   "cell_type": "code",
   "execution_count": 25,
   "id": "dd3b8f44-3702-4de9-a394-d35b00f16cc1",
   "metadata": {},
   "outputs": [],
   "source": [
    "# 1.Tuple Basics"
   ]
  },
  {
   "cell_type": "code",
   "execution_count": 26,
   "id": "21fce49b-06e4-403d-bf51-90a3b142a974",
   "metadata": {},
   "outputs": [
    {
     "name": "stdout",
     "output_type": "stream",
     "text": [
      "(2, 1, 4, 3)\n",
      "(2, 1, 3)\n"
     ]
    }
   ],
   "source": [
    "# Example usage:\n",
    "def swap_pairs(my_tup):\n",
    "    temp = list(my_tup)\n",
    "    n = len(my_tup)\n",
    "    for i in range(0,n-1,2):\n",
    "        temp[i], temp[i+1] = temp[i+1], temp[i]\n",
    "    return tuple(temp)\n",
    "\n",
    "\"\"\"def swap(x,y):\n",
    "    temp = x\n",
    "    x = y\n",
    "    y = temp\n",
    "    return x, y\"\"\"\n",
    "\n",
    "print(swap_pairs((1, 2, 3, 4)))  # Should return (2, 1, 4, 3)\n",
    "print(swap_pairs((1, 2, 3)))  # Should return (2, 1, 3)"
   ]
  },
  {
   "cell_type": "code",
   "execution_count": 12,
   "id": "fc00b14b-4a6a-46d6-9c15-9379c33f7266",
   "metadata": {},
   "outputs": [],
   "source": [
    "# 2. Tuple unpacking"
   ]
  },
  {
   "cell_type": "code",
   "execution_count": 15,
   "id": "5d7c45cd-a841-4d3c-adb5-61db2288e597",
   "metadata": {},
   "outputs": [
    {
     "name": "stdout",
     "output_type": "stream",
     "text": [
      "(1, 5, 15, 3.0)\n"
     ]
    }
   ],
   "source": [
    "# Example usage:\n",
    "def get_stats(my_tuple):\n",
    "    n = len(my_tuple)\n",
    "    sum = 0\n",
    "    max = -10000\n",
    "    min = 10000\n",
    "    for i in range (n):\n",
    "        sum += my_tuple[i]\n",
    "        if(my_tuple[i]>max):\n",
    "            max = my_tuple[i]\n",
    "        if(my_tuple[i]<min):\n",
    "            min = my_tuple[i]\n",
    "    return (min, max, sum, sum/n)\n",
    "\n",
    "print(get_stats([1, 2, 3, 4, 5]))  # Should return (1, 5, 15, 3.0)"
   ]
  },
  {
   "cell_type": "code",
   "execution_count": 16,
   "id": "63870d6c-b7f9-43a7-9077-bae18f63537e",
   "metadata": {},
   "outputs": [],
   "source": [
    "# Medium Questions"
   ]
  },
  {
   "cell_type": "code",
   "execution_count": 17,
   "id": "030d7f61-c1b9-4c4a-9b29-4a00356da3b7",
   "metadata": {},
   "outputs": [],
   "source": [
    "# 1. Named Tuples"
   ]
  },
  {
   "cell_type": "code",
   "execution_count": 14,
   "id": "315d0d59-150e-4ebb-a79f-c30741420705",
   "metadata": {},
   "outputs": [
    {
     "name": "stdout",
     "output_type": "stream",
     "text": [
      "Student(name='Alice', age=20, marks=(85, 90, 95))\n"
     ]
    }
   ],
   "source": [
    "# Example usage:\n",
    "from collections import namedtuple\n",
    "\n",
    "Student = namedtuple(\"Student\", [\"name\", \"age\", \"marks\"])\n",
    "\n",
    "# You'll define the Student named tuple\n",
    "def top_student(students):\n",
    "    top = None\n",
    "    highest = -1\n",
    "    for student in students:\n",
    "        tot = sum(student.marks)\n",
    "        if(tot>highest):\n",
    "            highest = tot\n",
    "            top = student\n",
    "        return top\n",
    "                \n",
    "    \n",
    "alice = Student(\"Alice\", 20, (85, 90, 95))\n",
    "bob = Student(\"Bob\", 19, (70, 80, 90))\n",
    "charlie = Student(\"Charlie\", 21, (90, 92, 93))\n",
    "\n",
    "print(top_student([alice, bob, charlie]))  # Should return the charlie Student tuple\n"
   ]
  },
  {
   "cell_type": "code",
   "execution_count": 15,
   "id": "3a2fed4c-ff87-4a7c-8fc9-d69c08c2f21c",
   "metadata": {},
   "outputs": [],
   "source": [
    "# 2. Tuple as Keys"
   ]
  },
  {
   "cell_type": "code",
   "execution_count": 26,
   "id": "5870a686-f19c-47b5-a64a-efcd11d3622b",
   "metadata": {},
   "outputs": [
    {
     "name": "stdout",
     "output_type": "stream",
     "text": [
      "{(1, 2): 3, (3, 4): 2, (5, 6): 1}\n"
     ]
    }
   ],
   "source": [
    "# Example usage:\n",
    "def count_coordinate_occurrences(my_tuple):\n",
    "    my_dict = {}\n",
    "    for i in range(len(my_tuple)):\n",
    "        count = 0\n",
    "        for j in range(len(my_tuple)):\n",
    "            if(my_tuple[i] == my_tuple[j]):\n",
    "                count += 1\n",
    "        my_dict[my_tuple[i]] = count\n",
    "    return my_dict\n",
    "\n",
    "\n",
    "coords = [(1, 2), (3, 4), (1, 2), (5, 6), (3, 4), (1, 2)]\n",
    "print(count_coordinate_occurrences(coords))\n",
    "# Should return {(1, 2): 3, (3, 4): 2, (5, 6): 1}\n"
   ]
  },
  {
   "cell_type": "code",
   "execution_count": 27,
   "id": "e3cb5515-451e-4b71-a0c1-2836dc7f8557",
   "metadata": {},
   "outputs": [],
   "source": [
    "# Hard questions"
   ]
  },
  {
   "cell_type": "code",
   "execution_count": 28,
   "id": "108cecab-70d7-45ee-a9f5-4a4baf180fd8",
   "metadata": {},
   "outputs": [],
   "source": [
    "# 1. Complex ds"
   ]
  },
  {
   "cell_type": "code",
   "execution_count": 30,
   "id": "664efed4-0bfa-4cd0-9cf1-c835f44b157b",
   "metadata": {},
   "outputs": [
    {
     "name": "stdout",
     "output_type": "stream",
     "text": [
      "{'Engineering': (85000, ['Alice', 'Charlie']), 'Marketing': (72500, ['Bob', 'Eve']), 'HR': (65000, ['Diana'])}\n"
     ]
    }
   ],
   "source": [
    "# Example usage:\n",
    "\n",
    "def group_by_department(employees):\n",
    "    department_data = {}\n",
    "\n",
    "    for name, department, salary in employees:\n",
    "        if department not in department_data:\n",
    "            department_data[department] = {\"total_salary\": 0, \"count\": 0, \"names\": []}\n",
    "        \n",
    "        department_data[department][\"total_salary\"] += salary\n",
    "        department_data[department][\"count\"] += 1\n",
    "        department_data[department][\"names\"].append(name)\n",
    "\n",
    "    result = {}\n",
    "    for dept, data in department_data.items():\n",
    "        avg_salary = data[\"total_salary\"] // data[\"count\"]  # integer division as in example\n",
    "        result[dept] = (avg_salary, data[\"names\"])\n",
    "\n",
    "    return result\n",
    "\n",
    "    \n",
    "\n",
    "employees = [\n",
    "    (\"Alice\", \"Engineering\", 80000),\n",
    "    (\"Bob\", \"Marketing\", 70000),\n",
    "    (\"Charlie\", \"Engineering\", 90000),\n",
    "    (\"Diana\", \"HR\", 65000),\n",
    "    (\"Eve\", \"Marketing\", 75000)\n",
    "]\n",
    "\n",
    "result = group_by_department(employees)\n",
    "print(result)\n",
    "# Should return:\n",
    "# {\n",
    "#   \"Engineering\": (85000, [\"Alice\", \"Charlie\"]),\n",
    "#   \"Marketing\": (72500, [\"Bob\", \"Eve\"]),\n",
    "#   \"HR\": (65000, [\"Diana\"])\n",
    "# }\n"
   ]
  },
  {
   "cell_type": "code",
   "execution_count": null,
   "id": "6f7188f5-09d0-4b05-ae74-78b3899845e2",
   "metadata": {},
   "outputs": [],
   "source": []
  }
 ],
 "metadata": {
  "kernelspec": {
   "display_name": "Python 3 (ipykernel)",
   "language": "python",
   "name": "python3"
  },
  "language_info": {
   "codemirror_mode": {
    "name": "ipython",
    "version": 3
   },
   "file_extension": ".py",
   "mimetype": "text/x-python",
   "name": "python",
   "nbconvert_exporter": "python",
   "pygments_lexer": "ipython3",
   "version": "3.13.3"
  }
 },
 "nbformat": 4,
 "nbformat_minor": 5
}
